{
 "cells": [
  {
   "cell_type": "code",
   "execution_count": 1,
   "metadata": {},
   "outputs": [
    {
     "name": "stdout",
     "output_type": "stream",
     "text": [
      "Requirement already satisfied: pandas in c:\\users\\tomás\\anaconda\\lib\\site-packages (2.1.4)\n",
      "Requirement already satisfied: requests in c:\\users\\tomás\\anaconda\\lib\\site-packages (2.31.0)\n",
      "Requirement already satisfied: numpy<2,>=1.23.2 in c:\\users\\tomás\\anaconda\\lib\\site-packages (from pandas) (1.26.4)\n",
      "Requirement already satisfied: python-dateutil>=2.8.2 in c:\\users\\tomás\\anaconda\\lib\\site-packages (from pandas) (2.8.2)\n",
      "Requirement already satisfied: pytz>=2020.1 in c:\\users\\tomás\\anaconda\\lib\\site-packages (from pandas) (2023.3.post1)\n",
      "Requirement already satisfied: tzdata>=2022.1 in c:\\users\\tomás\\anaconda\\lib\\site-packages (from pandas) (2023.3)\n",
      "Requirement already satisfied: charset-normalizer<4,>=2 in c:\\users\\tomás\\anaconda\\lib\\site-packages (from requests) (2.0.4)\n",
      "Requirement already satisfied: idna<4,>=2.5 in c:\\users\\tomás\\anaconda\\lib\\site-packages (from requests) (3.4)\n",
      "Requirement already satisfied: urllib3<3,>=1.21.1 in c:\\users\\tomás\\anaconda\\lib\\site-packages (from requests) (2.0.7)\n",
      "Requirement already satisfied: certifi>=2017.4.17 in c:\\users\\tomás\\anaconda\\lib\\site-packages (from requests) (2024.2.2)\n",
      "Requirement already satisfied: six>=1.5 in c:\\users\\tomás\\anaconda\\lib\\site-packages (from python-dateutil>=2.8.2->pandas) (1.16.0)\n",
      "Note: you may need to restart the kernel to use updated packages.\n"
     ]
    }
   ],
   "source": [
    "pip install pandas requests"
   ]
  },
  {
   "cell_type": "code",
   "execution_count": 2,
   "metadata": {},
   "outputs": [],
   "source": [
    "import requests\n",
    "import pandas as pd"
   ]
  },
  {
   "cell_type": "code",
   "execution_count": 21,
   "metadata": {},
   "outputs": [],
   "source": [
    "API_KEY = '54d77ee15672ad11f701914343001ba1'"
   ]
  },
  {
   "cell_type": "code",
   "execution_count": 22,
   "metadata": {},
   "outputs": [],
   "source": [
    "def fetch_fred_data(series_id, start_date='1978-01-01', end_date='2023-12-31'):\n",
    "    url = \"https://api.stlouisfed.org/fred/series/observations\"\n",
    "    params = {\n",
    "        'series_id': series_id,\n",
    "        'api_key': API_KEY,\n",
    "        'file_type': 'json',\n",
    "        'observation_start': start_date,\n",
    "        'observation_end': end_date,\n",
    "    }\n",
    "\n",
    "    response = requests.get(url, params=params)\n",
    "    if response.status_code != 200:\n",
    "        print(f\"Failed to fetch data for {series_id}. HTTP Status Code: {response.status_code}\")\n",
    "        return pd.DataFrame()\n",
    "\n",
    "    data = response.json()\n",
    "    observations = pd.DataFrame(data.get('observations', []))\n",
    "\n",
    "    if not observations.empty:\n",
    "        observations['date'] = pd.to_datetime(observations['date'])\n",
    "        observations['value'] = pd.to_numeric(observations['value'], errors='coerce')\n",
    "        return observations[['date', 'value']].rename(columns={'value': series_id})\n",
    "    else:\n",
    "        print(f\"No data available for {series_id}.\")\n",
    "        return pd.DataFrame()\n"
   ]
  },
  {
   "cell_type": "code",
   "execution_count": null,
   "metadata": {},
   "outputs": [],
   "source": [
    "fred_series = {\n",
    "    'GDP': 'gdp_growth_rate',                  \n",
    "    'UNRATE': 'unemployment_rate',             \n",
    "    'CPIAUCSL': 'inflation_cpi',               \n",
    "    'INDPRO': 'industrial_production',         \n",
    "    'T10Y2Y': 'yield_curve_spread',            \n",
    "    # 'SP500': 'sp500_index', data only available from 2015 - least significant indicator                   \n",
    "    # 'BAA10Y': 'credit_spread',                 \n",
    "    'UMCSENT': 'consumer_confidence',          \n",
    "}"
   ]
  },
  {
   "cell_type": "code",
   "execution_count": 24,
   "metadata": {},
   "outputs": [],
   "source": [
    "def align_frequencies(data, target_frequency='M', method='mean'):\n",
    "    if method == 'mean':\n",
    "        return data.resample(target_frequency).mean()\n",
    "    elif method == 'sum':\n",
    "        return data.resample(target_frequency).sum()\n",
    "    elif method == 'last':\n",
    "        return data.resample(target_frequency).last()\n",
    "    else:\n",
    "        raise ValueError(f\"Unsupported method: {method}\")\n"
   ]
  },
  {
   "cell_type": "code",
   "execution_count": 25,
   "metadata": {},
   "outputs": [],
   "source": [
    "def fetch_and_compile_data(series_dict, start_date='2000-01-01', end_date='2023-12-31', target_frequency='M'):\n",
    "    all_data = []\n",
    "\n",
    "    for series_id, column_name in series_dict.items():\n",
    "        print(f\"Fetching and processing data for {column_name} ({series_id})...\")\n",
    "        data = fetch_fred_data(series_id, start_date, end_date)\n",
    "        if not data.empty:\n",
    "            data = data.rename(columns={series_id: column_name})\n",
    "            data = data.set_index('date')\n",
    "            if target_frequency == 'M':\n",
    "                data = align_frequencies(data, target_frequency='M', method='mean')\n",
    "            elif target_frequency == 'Q':\n",
    "                data = align_frequencies(data, target_frequency='Q', method='mean')\n",
    "            all_data.append(data)\n",
    "\n",
    "    combined_data = pd.DataFrame()\n",
    "    if all_data:\n",
    "        combined_data = all_data[0]\n",
    "        for df in all_data[1:]:\n",
    "            combined_data = pd.merge(combined_data, df, left_index=True, right_index=True, how='outer')\n",
    "\n",
    "    combined_data.sort_index(inplace=True)\n",
    "    combined_data.fillna(method='ffill', inplace=True)\n",
    "    combined_data.fillna(method='bfill', inplace=True)\n",
    "    return combined_data\n"
   ]
  },
  {
   "cell_type": "code",
   "execution_count": 26,
   "metadata": {},
   "outputs": [],
   "source": [
    "labels = list(fred_series.keys())"
   ]
  },
  {
   "cell_type": "code",
   "execution_count": null,
   "metadata": {},
   "outputs": [
    {
     "name": "stdout",
     "output_type": "stream",
     "text": [
      "Fetching and processing data for gdp_growth_rate (GDP)...\n",
      "Fetching and processing data for unemployment_rate (UNRATE)...\n",
      "Fetching and processing data for inflation_cpi (CPIAUCSL)...\n",
      "Fetching and processing data for industrial_production (INDPRO)...\n",
      "Fetching and processing data for yield_curve_spread (T10Y2Y)...\n",
      "Fetching and processing data for credit_spread (BAA10Y)...\n",
      "Fetching and processing data for consumer_confidence (UMCSENT)...\n",
      "Data saved to 'standardized_economic_indicators_cs.csv'\n"
     ]
    },
    {
     "name": "stderr",
     "output_type": "stream",
     "text": [
      "C:\\Users\\Tomás\\AppData\\Local\\Temp\\ipykernel_20916\\2263320569.py:23: FutureWarning: DataFrame.fillna with 'method' is deprecated and will raise in a future version. Use obj.ffill() or obj.bfill() instead.\n",
      "  combined_data.fillna(method='ffill', inplace=True)\n",
      "C:\\Users\\Tomás\\AppData\\Local\\Temp\\ipykernel_20916\\2263320569.py:24: FutureWarning: DataFrame.fillna with 'method' is deprecated and will raise in a future version. Use obj.ffill() or obj.bfill() instead.\n",
      "  combined_data.fillna(method='bfill', inplace=True)\n"
     ]
    }
   ],
   "source": [
    "combined_dataset = fetch_and_compile_data(fred_series, start_date='1978-01-01', end_date='2024-11-01', target_frequency='M')\n",
    "combined_dataset.to_csv('standardized_economic_indicators.csv')\n",
    "print(\"Data saved to 'standardized_economic_indicators.csv'\")"
   ]
  },
  {
   "cell_type": "code",
   "execution_count": 28,
   "metadata": {},
   "outputs": [
    {
     "data": {
      "text/html": [
       "<div>\n",
       "<style scoped>\n",
       "    .dataframe tbody tr th:only-of-type {\n",
       "        vertical-align: middle;\n",
       "    }\n",
       "\n",
       "    .dataframe tbody tr th {\n",
       "        vertical-align: top;\n",
       "    }\n",
       "\n",
       "    .dataframe thead th {\n",
       "        text-align: right;\n",
       "    }\n",
       "</style>\n",
       "<table border=\"1\" class=\"dataframe\">\n",
       "  <thead>\n",
       "    <tr style=\"text-align: right;\">\n",
       "      <th></th>\n",
       "      <th>GDP</th>\n",
       "      <th>UNRATE</th>\n",
       "      <th>CPIAUCSL</th>\n",
       "      <th>INDPRO</th>\n",
       "      <th>T10Y2Y</th>\n",
       "      <th>BAA10Y</th>\n",
       "      <th>UMCSENT</th>\n",
       "    </tr>\n",
       "    <tr>\n",
       "      <th>date</th>\n",
       "      <th></th>\n",
       "      <th></th>\n",
       "      <th></th>\n",
       "      <th></th>\n",
       "      <th></th>\n",
       "      <th></th>\n",
       "      <th></th>\n",
       "    </tr>\n",
       "  </thead>\n",
       "  <tbody>\n",
       "    <tr>\n",
       "      <th>1986-01-31</th>\n",
       "      <td>4507.894</td>\n",
       "      <td>6.7</td>\n",
       "      <td>109.900</td>\n",
       "      <td>55.6453</td>\n",
       "      <td>1.051429</td>\n",
       "      <td>2.241429</td>\n",
       "      <td>95.6</td>\n",
       "    </tr>\n",
       "    <tr>\n",
       "      <th>1986-02-28</th>\n",
       "      <td>4507.894</td>\n",
       "      <td>7.2</td>\n",
       "      <td>109.700</td>\n",
       "      <td>55.2634</td>\n",
       "      <td>0.736842</td>\n",
       "      <td>2.408421</td>\n",
       "      <td>95.9</td>\n",
       "    </tr>\n",
       "    <tr>\n",
       "      <th>1986-03-31</th>\n",
       "      <td>4507.894</td>\n",
       "      <td>7.2</td>\n",
       "      <td>109.100</td>\n",
       "      <td>54.8728</td>\n",
       "      <td>0.564000</td>\n",
       "      <td>2.716500</td>\n",
       "      <td>95.1</td>\n",
       "    </tr>\n",
       "    <tr>\n",
       "      <th>1986-04-30</th>\n",
       "      <td>4545.340</td>\n",
       "      <td>7.1</td>\n",
       "      <td>108.700</td>\n",
       "      <td>54.9350</td>\n",
       "      <td>0.604091</td>\n",
       "      <td>2.891364</td>\n",
       "      <td>96.2</td>\n",
       "    </tr>\n",
       "    <tr>\n",
       "      <th>1986-05-31</th>\n",
       "      <td>4545.340</td>\n",
       "      <td>7.2</td>\n",
       "      <td>109.000</td>\n",
       "      <td>55.0399</td>\n",
       "      <td>0.642381</td>\n",
       "      <td>2.576190</td>\n",
       "      <td>94.8</td>\n",
       "    </tr>\n",
       "    <tr>\n",
       "      <th>...</th>\n",
       "      <td>...</td>\n",
       "      <td>...</td>\n",
       "      <td>...</td>\n",
       "      <td>...</td>\n",
       "      <td>...</td>\n",
       "      <td>...</td>\n",
       "      <td>...</td>\n",
       "    </tr>\n",
       "    <tr>\n",
       "      <th>2024-07-31</th>\n",
       "      <td>29349.924</td>\n",
       "      <td>4.3</td>\n",
       "      <td>313.534</td>\n",
       "      <td>102.5381</td>\n",
       "      <td>-0.247273</td>\n",
       "      <td>1.588182</td>\n",
       "      <td>66.4</td>\n",
       "    </tr>\n",
       "    <tr>\n",
       "      <th>2024-08-31</th>\n",
       "      <td>29349.924</td>\n",
       "      <td>4.2</td>\n",
       "      <td>314.121</td>\n",
       "      <td>103.0449</td>\n",
       "      <td>-0.094545</td>\n",
       "      <td>1.733636</td>\n",
       "      <td>67.9</td>\n",
       "    </tr>\n",
       "    <tr>\n",
       "      <th>2024-09-30</th>\n",
       "      <td>29349.924</td>\n",
       "      <td>4.1</td>\n",
       "      <td>314.686</td>\n",
       "      <td>102.5497</td>\n",
       "      <td>0.101000</td>\n",
       "      <td>1.694500</td>\n",
       "      <td>70.1</td>\n",
       "    </tr>\n",
       "    <tr>\n",
       "      <th>2024-10-31</th>\n",
       "      <td>29349.924</td>\n",
       "      <td>4.1</td>\n",
       "      <td>315.454</td>\n",
       "      <td>102.2805</td>\n",
       "      <td>0.123182</td>\n",
       "      <td>1.538636</td>\n",
       "      <td>70.1</td>\n",
       "    </tr>\n",
       "    <tr>\n",
       "      <th>2024-11-30</th>\n",
       "      <td>29349.924</td>\n",
       "      <td>4.1</td>\n",
       "      <td>315.454</td>\n",
       "      <td>102.2805</td>\n",
       "      <td>0.160000</td>\n",
       "      <td>1.460000</td>\n",
       "      <td>70.1</td>\n",
       "    </tr>\n",
       "  </tbody>\n",
       "</table>\n",
       "<p>467 rows × 7 columns</p>\n",
       "</div>"
      ],
      "text/plain": [
       "                  GDP  UNRATE  CPIAUCSL    INDPRO    T10Y2Y    BAA10Y  UMCSENT\n",
       "date                                                                          \n",
       "1986-01-31   4507.894     6.7   109.900   55.6453  1.051429  2.241429     95.6\n",
       "1986-02-28   4507.894     7.2   109.700   55.2634  0.736842  2.408421     95.9\n",
       "1986-03-31   4507.894     7.2   109.100   54.8728  0.564000  2.716500     95.1\n",
       "1986-04-30   4545.340     7.1   108.700   54.9350  0.604091  2.891364     96.2\n",
       "1986-05-31   4545.340     7.2   109.000   55.0399  0.642381  2.576190     94.8\n",
       "...               ...     ...       ...       ...       ...       ...      ...\n",
       "2024-07-31  29349.924     4.3   313.534  102.5381 -0.247273  1.588182     66.4\n",
       "2024-08-31  29349.924     4.2   314.121  103.0449 -0.094545  1.733636     67.9\n",
       "2024-09-30  29349.924     4.1   314.686  102.5497  0.101000  1.694500     70.1\n",
       "2024-10-31  29349.924     4.1   315.454  102.2805  0.123182  1.538636     70.1\n",
       "2024-11-30  29349.924     4.1   315.454  102.2805  0.160000  1.460000     70.1\n",
       "\n",
       "[467 rows x 7 columns]"
      ]
     },
     "execution_count": 28,
     "metadata": {},
     "output_type": "execute_result"
    }
   ],
   "source": [
    "combined_dataset.columns=labels\n",
    "combined_dataset"
   ]
  },
  {
   "cell_type": "code",
   "execution_count": null,
   "metadata": {},
   "outputs": [
    {
     "name": "stdout",
     "output_type": "stream",
     "text": [
      "Data saved to 'KEI_recession_cs.csv'\n"
     ]
    }
   ],
   "source": [
    "combined_dataset.to_csv('KEI_recession.csv')\n",
    "print(\"Data saved to 'KEI_recession.csv'\")"
   ]
  }
 ],
 "metadata": {
  "kernelspec": {
   "display_name": "base",
   "language": "python",
   "name": "python3"
  },
  "language_info": {
   "codemirror_mode": {
    "name": "ipython",
    "version": 3
   },
   "file_extension": ".py",
   "mimetype": "text/x-python",
   "name": "python",
   "nbconvert_exporter": "python",
   "pygments_lexer": "ipython3",
   "version": "3.11.7"
  }
 },
 "nbformat": 4,
 "nbformat_minor": 2
}
